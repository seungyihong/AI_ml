{
  "nbformat": 4,
  "nbformat_minor": 0,
  "metadata": {
    "colab": {
      "name": "basic_pandas_matplotlib.ipynb",
      "provenance": [],
      "collapsed_sections": [],
      "include_colab_link": true
    },
    "kernelspec": {
      "name": "python3",
      "display_name": "Python 3"
    }
  },
  "cells": [
    {
      "cell_type": "markdown",
      "metadata": {
        "id": "view-in-github",
        "colab_type": "text"
      },
      "source": [
        "<a href=\"https://colab.research.google.com/github/seungyihong/AI_ml/blob/master/basic_pandas_matplotlib.ipynb\" target=\"_parent\"><img src=\"https://colab.research.google.com/assets/colab-badge.svg\" alt=\"Open In Colab\"/></a>"
      ]
    },
    {
      "cell_type": "markdown",
      "metadata": {
        "id": "njgJclrzvYsP",
        "colab_type": "text"
      },
      "source": [
        "Pandas 와 matplotlib 이용하기"
      ]
    },
    {
      "cell_type": "code",
      "metadata": {
        "colab_type": "code",
        "id": "1xUZRGiGrfXy",
        "colab": {}
      },
      "source": [
        "import pandas as pd\n",
        "from pandas import DataFrame as df \n",
        "import numpy as np\n",
        "import matplotlib.pyplot as plt"
      ],
      "execution_count": 0,
      "outputs": []
    },
    {
      "cell_type": "markdown",
      "metadata": {
        "id": "2W0uzaFXsLf0",
        "colab_type": "text"
      },
      "source": [
        "문제1) 주어진 자료를 바탕으로 pandas 표 만들기"
      ]
    },
    {
      "cell_type": "code",
      "metadata": {
        "id": "3LSsm3Zb-0Pd",
        "colab_type": "code",
        "colab": {}
      },
      "source": [
        "data= {'미용실':[2241, 2118,   np.nan, 1706, 1518, 1543, 1508, 1325, 1257, 1279],\n",
        "       '양식집':[1354,   np.nan, 1126,  827,  876,  834,   np.nan,  785,  801, 776],\n",
        "       \"일식집\":[497, 440, 458, 446, 470, 489, 478, 443, 433, 439]}\n",
        "\n",
        "#깔끔하게 데이터 정리하는게 좋다 \n",
        "#리스트 x=[2,3,47,,,,,] data={'미용실':x}"
      ],
      "execution_count": 0,
      "outputs": []
    },
    {
      "cell_type": "code",
      "metadata": {
        "id": "stm9fjfRCRZa",
        "colab_type": "code",
        "outputId": "e305f914-2b34-4de2-9dec-29ebc70547a5",
        "colab": {
          "base_uri": "https://localhost:8080/",
          "height": 343
        }
      },
      "source": [
        "data_df = pd.DataFrame(data)\n",
        "data_df"
      ],
      "execution_count": 0,
      "outputs": [
        {
          "output_type": "execute_result",
          "data": {
            "text/html": [
              "<div>\n",
              "<style scoped>\n",
              "    .dataframe tbody tr th:only-of-type {\n",
              "        vertical-align: middle;\n",
              "    }\n",
              "\n",
              "    .dataframe tbody tr th {\n",
              "        vertical-align: top;\n",
              "    }\n",
              "\n",
              "    .dataframe thead th {\n",
              "        text-align: right;\n",
              "    }\n",
              "</style>\n",
              "<table border=\"1\" class=\"dataframe\">\n",
              "  <thead>\n",
              "    <tr style=\"text-align: right;\">\n",
              "      <th></th>\n",
              "      <th>미용실</th>\n",
              "      <th>양식집</th>\n",
              "      <th>일식집</th>\n",
              "    </tr>\n",
              "  </thead>\n",
              "  <tbody>\n",
              "    <tr>\n",
              "      <th>0</th>\n",
              "      <td>2241.0</td>\n",
              "      <td>1354.0</td>\n",
              "      <td>497</td>\n",
              "    </tr>\n",
              "    <tr>\n",
              "      <th>1</th>\n",
              "      <td>2118.0</td>\n",
              "      <td>NaN</td>\n",
              "      <td>440</td>\n",
              "    </tr>\n",
              "    <tr>\n",
              "      <th>2</th>\n",
              "      <td>NaN</td>\n",
              "      <td>1126.0</td>\n",
              "      <td>458</td>\n",
              "    </tr>\n",
              "    <tr>\n",
              "      <th>3</th>\n",
              "      <td>1706.0</td>\n",
              "      <td>827.0</td>\n",
              "      <td>446</td>\n",
              "    </tr>\n",
              "    <tr>\n",
              "      <th>4</th>\n",
              "      <td>1518.0</td>\n",
              "      <td>876.0</td>\n",
              "      <td>470</td>\n",
              "    </tr>\n",
              "    <tr>\n",
              "      <th>5</th>\n",
              "      <td>1543.0</td>\n",
              "      <td>834.0</td>\n",
              "      <td>489</td>\n",
              "    </tr>\n",
              "    <tr>\n",
              "      <th>6</th>\n",
              "      <td>1508.0</td>\n",
              "      <td>NaN</td>\n",
              "      <td>478</td>\n",
              "    </tr>\n",
              "    <tr>\n",
              "      <th>7</th>\n",
              "      <td>1325.0</td>\n",
              "      <td>785.0</td>\n",
              "      <td>443</td>\n",
              "    </tr>\n",
              "    <tr>\n",
              "      <th>8</th>\n",
              "      <td>1257.0</td>\n",
              "      <td>801.0</td>\n",
              "      <td>433</td>\n",
              "    </tr>\n",
              "    <tr>\n",
              "      <th>9</th>\n",
              "      <td>1279.0</td>\n",
              "      <td>776.0</td>\n",
              "      <td>439</td>\n",
              "    </tr>\n",
              "  </tbody>\n",
              "</table>\n",
              "</div>"
            ],
            "text/plain": [
              "      미용실     양식집  일식집\n",
              "0  2241.0  1354.0  497\n",
              "1  2118.0     NaN  440\n",
              "2     NaN  1126.0  458\n",
              "3  1706.0   827.0  446\n",
              "4  1518.0   876.0  470\n",
              "5  1543.0   834.0  489\n",
              "6  1508.0     NaN  478\n",
              "7  1325.0   785.0  443\n",
              "8  1257.0   801.0  433\n",
              "9  1279.0   776.0  439"
            ]
          },
          "metadata": {
            "tags": []
          },
          "execution_count": 332
        }
      ]
    },
    {
      "cell_type": "code",
      "metadata": {
        "id": "BDYGjFDWbhuX",
        "colab_type": "code",
        "outputId": "15a92005-bb47-4a18-d633-f956560fe441",
        "colab": {
          "base_uri": "https://localhost:8080/",
          "height": 343
        }
      },
      "source": [
        "a=[]\n",
        "for i in range(2005,2015):\n",
        "  a.append(i)\n",
        "data_df=pd.DataFrame(data, index=a)\n",
        "data_df"
      ],
      "execution_count": 0,
      "outputs": [
        {
          "output_type": "execute_result",
          "data": {
            "text/html": [
              "<div>\n",
              "<style scoped>\n",
              "    .dataframe tbody tr th:only-of-type {\n",
              "        vertical-align: middle;\n",
              "    }\n",
              "\n",
              "    .dataframe tbody tr th {\n",
              "        vertical-align: top;\n",
              "    }\n",
              "\n",
              "    .dataframe thead th {\n",
              "        text-align: right;\n",
              "    }\n",
              "</style>\n",
              "<table border=\"1\" class=\"dataframe\">\n",
              "  <thead>\n",
              "    <tr style=\"text-align: right;\">\n",
              "      <th></th>\n",
              "      <th>미용실</th>\n",
              "      <th>양식집</th>\n",
              "      <th>일식집</th>\n",
              "    </tr>\n",
              "  </thead>\n",
              "  <tbody>\n",
              "    <tr>\n",
              "      <th>2005</th>\n",
              "      <td>2241.0</td>\n",
              "      <td>1354.0</td>\n",
              "      <td>497</td>\n",
              "    </tr>\n",
              "    <tr>\n",
              "      <th>2006</th>\n",
              "      <td>2118.0</td>\n",
              "      <td>NaN</td>\n",
              "      <td>440</td>\n",
              "    </tr>\n",
              "    <tr>\n",
              "      <th>2007</th>\n",
              "      <td>NaN</td>\n",
              "      <td>1126.0</td>\n",
              "      <td>458</td>\n",
              "    </tr>\n",
              "    <tr>\n",
              "      <th>2008</th>\n",
              "      <td>1706.0</td>\n",
              "      <td>827.0</td>\n",
              "      <td>446</td>\n",
              "    </tr>\n",
              "    <tr>\n",
              "      <th>2009</th>\n",
              "      <td>1518.0</td>\n",
              "      <td>876.0</td>\n",
              "      <td>470</td>\n",
              "    </tr>\n",
              "    <tr>\n",
              "      <th>2010</th>\n",
              "      <td>1543.0</td>\n",
              "      <td>834.0</td>\n",
              "      <td>489</td>\n",
              "    </tr>\n",
              "    <tr>\n",
              "      <th>2011</th>\n",
              "      <td>1508.0</td>\n",
              "      <td>NaN</td>\n",
              "      <td>478</td>\n",
              "    </tr>\n",
              "    <tr>\n",
              "      <th>2012</th>\n",
              "      <td>1325.0</td>\n",
              "      <td>785.0</td>\n",
              "      <td>443</td>\n",
              "    </tr>\n",
              "    <tr>\n",
              "      <th>2013</th>\n",
              "      <td>1257.0</td>\n",
              "      <td>801.0</td>\n",
              "      <td>433</td>\n",
              "    </tr>\n",
              "    <tr>\n",
              "      <th>2014</th>\n",
              "      <td>1279.0</td>\n",
              "      <td>776.0</td>\n",
              "      <td>439</td>\n",
              "    </tr>\n",
              "  </tbody>\n",
              "</table>\n",
              "</div>"
            ],
            "text/plain": [
              "         미용실     양식집  일식집\n",
              "2005  2241.0  1354.0  497\n",
              "2006  2118.0     NaN  440\n",
              "2007     NaN  1126.0  458\n",
              "2008  1706.0   827.0  446\n",
              "2009  1518.0   876.0  470\n",
              "2010  1543.0   834.0  489\n",
              "2011  1508.0     NaN  478\n",
              "2012  1325.0   785.0  443\n",
              "2013  1257.0   801.0  433\n",
              "2014  1279.0   776.0  439"
            ]
          },
          "metadata": {
            "tags": []
          },
          "execution_count": 333
        }
      ]
    },
    {
      "cell_type": "markdown",
      "metadata": {
        "id": "OWGsMpOJsekF",
        "colab_type": "text"
      },
      "source": [
        "문제2)null값이 몇개 있는지 파악하기"
      ]
    },
    {
      "cell_type": "code",
      "metadata": {
        "id": "aYV1QRIGDPMb",
        "colab_type": "code",
        "outputId": "1f5edb9c-3c94-481e-8c1d-717c12cece79",
        "colab": {
          "base_uri": "https://localhost:8080/",
          "height": 87
        }
      },
      "source": [
        "data_df.isna().sum()"
      ],
      "execution_count": 0,
      "outputs": [
        {
          "output_type": "execute_result",
          "data": {
            "text/plain": [
              "미용실    1\n",
              "양식집    2\n",
              "일식집    0\n",
              "dtype: int64"
            ]
          },
          "metadata": {
            "tags": []
          },
          "execution_count": 334
        }
      ]
    },
    {
      "cell_type": "markdown",
      "metadata": {
        "id": "q1PlfNVoskQQ",
        "colab_type": "text"
      },
      "source": [
        "문제3) null들을 다르게 채워보기 "
      ]
    },
    {
      "cell_type": "code",
      "metadata": {
        "id": "O-4aWmq3DgsX",
        "colab_type": "code",
        "colab": {}
      },
      "source": [
        "data_df['미용실'] = data_df['미용실'].fillna(data_df['미용실'].mean())\n",
        "data_df['양식집'] = data_df['양식집'].fillna(0)\n",
        "data_df['일식집'] = data_df['일식집'].fillna(data_df.loc[2005,'일식집'])"
      ],
      "execution_count": 0,
      "outputs": []
    },
    {
      "cell_type": "code",
      "metadata": {
        "id": "EJWJkH8nPjUU",
        "colab_type": "code",
        "outputId": "82b45dc4-aa4e-4c5d-bea2-ebd950361d7c",
        "colab": {
          "base_uri": "https://localhost:8080/",
          "height": 343
        }
      },
      "source": [
        "data_df['미용실']=data_df['미용실'].astype('int')\n",
        "data_df['양식집']=data_df['양식집'].astype('int')\n",
        "data_df"
      ],
      "execution_count": 0,
      "outputs": [
        {
          "output_type": "execute_result",
          "data": {
            "text/html": [
              "<div>\n",
              "<style scoped>\n",
              "    .dataframe tbody tr th:only-of-type {\n",
              "        vertical-align: middle;\n",
              "    }\n",
              "\n",
              "    .dataframe tbody tr th {\n",
              "        vertical-align: top;\n",
              "    }\n",
              "\n",
              "    .dataframe thead th {\n",
              "        text-align: right;\n",
              "    }\n",
              "</style>\n",
              "<table border=\"1\" class=\"dataframe\">\n",
              "  <thead>\n",
              "    <tr style=\"text-align: right;\">\n",
              "      <th></th>\n",
              "      <th>미용실</th>\n",
              "      <th>양식집</th>\n",
              "      <th>일식집</th>\n",
              "    </tr>\n",
              "  </thead>\n",
              "  <tbody>\n",
              "    <tr>\n",
              "      <th>2005</th>\n",
              "      <td>2241</td>\n",
              "      <td>1354</td>\n",
              "      <td>497</td>\n",
              "    </tr>\n",
              "    <tr>\n",
              "      <th>2006</th>\n",
              "      <td>2118</td>\n",
              "      <td>0</td>\n",
              "      <td>440</td>\n",
              "    </tr>\n",
              "    <tr>\n",
              "      <th>2007</th>\n",
              "      <td>1610</td>\n",
              "      <td>1126</td>\n",
              "      <td>458</td>\n",
              "    </tr>\n",
              "    <tr>\n",
              "      <th>2008</th>\n",
              "      <td>1706</td>\n",
              "      <td>827</td>\n",
              "      <td>446</td>\n",
              "    </tr>\n",
              "    <tr>\n",
              "      <th>2009</th>\n",
              "      <td>1518</td>\n",
              "      <td>876</td>\n",
              "      <td>470</td>\n",
              "    </tr>\n",
              "    <tr>\n",
              "      <th>2010</th>\n",
              "      <td>1543</td>\n",
              "      <td>834</td>\n",
              "      <td>489</td>\n",
              "    </tr>\n",
              "    <tr>\n",
              "      <th>2011</th>\n",
              "      <td>1508</td>\n",
              "      <td>0</td>\n",
              "      <td>478</td>\n",
              "    </tr>\n",
              "    <tr>\n",
              "      <th>2012</th>\n",
              "      <td>1325</td>\n",
              "      <td>785</td>\n",
              "      <td>443</td>\n",
              "    </tr>\n",
              "    <tr>\n",
              "      <th>2013</th>\n",
              "      <td>1257</td>\n",
              "      <td>801</td>\n",
              "      <td>433</td>\n",
              "    </tr>\n",
              "    <tr>\n",
              "      <th>2014</th>\n",
              "      <td>1279</td>\n",
              "      <td>776</td>\n",
              "      <td>439</td>\n",
              "    </tr>\n",
              "  </tbody>\n",
              "</table>\n",
              "</div>"
            ],
            "text/plain": [
              "       미용실   양식집  일식집\n",
              "2005  2241  1354  497\n",
              "2006  2118     0  440\n",
              "2007  1610  1126  458\n",
              "2008  1706   827  446\n",
              "2009  1518   876  470\n",
              "2010  1543   834  489\n",
              "2011  1508     0  478\n",
              "2012  1325   785  443\n",
              "2013  1257   801  433\n",
              "2014  1279   776  439"
            ]
          },
          "metadata": {
            "tags": []
          },
          "execution_count": 336
        }
      ]
    },
    {
      "cell_type": "code",
      "metadata": {
        "id": "saNfds1GE-T-",
        "colab_type": "code",
        "outputId": "71b710c0-01dd-4289-90f6-ec4e9fa47ffb",
        "colab": {
          "base_uri": "https://localhost:8080/",
          "height": 87
        }
      },
      "source": [
        "data_df.isna().sum()"
      ],
      "execution_count": 0,
      "outputs": [
        {
          "output_type": "execute_result",
          "data": {
            "text/plain": [
              "미용실    0\n",
              "양식집    0\n",
              "일식집    0\n",
              "dtype: int64"
            ]
          },
          "metadata": {
            "tags": []
          },
          "execution_count": 337
        }
      ]
    },
    {
      "cell_type": "markdown",
      "metadata": {
        "id": "YH7p7s5Gsq8S",
        "colab_type": "text"
      },
      "source": [
        "문제4) 일식집 열 추출 후 프레임 삭제 "
      ]
    },
    {
      "cell_type": "code",
      "metadata": {
        "id": "pnVDlgEHFFfj",
        "colab_type": "code",
        "outputId": "a2248c52-86c7-4c8f-a441-6c675ea8cddc",
        "colab": {
          "base_uri": "https://localhost:8080/",
          "height": 343
        }
      },
      "source": [
        "il_df = data_df['일식집']\n",
        "data_df.drop('일식집',axis=1,inplace=True)\n",
        "data_df\n",
        "# del 열만 없앨수있음\n"
      ],
      "execution_count": 0,
      "outputs": [
        {
          "output_type": "execute_result",
          "data": {
            "text/html": [
              "<div>\n",
              "<style scoped>\n",
              "    .dataframe tbody tr th:only-of-type {\n",
              "        vertical-align: middle;\n",
              "    }\n",
              "\n",
              "    .dataframe tbody tr th {\n",
              "        vertical-align: top;\n",
              "    }\n",
              "\n",
              "    .dataframe thead th {\n",
              "        text-align: right;\n",
              "    }\n",
              "</style>\n",
              "<table border=\"1\" class=\"dataframe\">\n",
              "  <thead>\n",
              "    <tr style=\"text-align: right;\">\n",
              "      <th></th>\n",
              "      <th>미용실</th>\n",
              "      <th>양식집</th>\n",
              "    </tr>\n",
              "  </thead>\n",
              "  <tbody>\n",
              "    <tr>\n",
              "      <th>2005</th>\n",
              "      <td>2241</td>\n",
              "      <td>1354</td>\n",
              "    </tr>\n",
              "    <tr>\n",
              "      <th>2006</th>\n",
              "      <td>2118</td>\n",
              "      <td>0</td>\n",
              "    </tr>\n",
              "    <tr>\n",
              "      <th>2007</th>\n",
              "      <td>1610</td>\n",
              "      <td>1126</td>\n",
              "    </tr>\n",
              "    <tr>\n",
              "      <th>2008</th>\n",
              "      <td>1706</td>\n",
              "      <td>827</td>\n",
              "    </tr>\n",
              "    <tr>\n",
              "      <th>2009</th>\n",
              "      <td>1518</td>\n",
              "      <td>876</td>\n",
              "    </tr>\n",
              "    <tr>\n",
              "      <th>2010</th>\n",
              "      <td>1543</td>\n",
              "      <td>834</td>\n",
              "    </tr>\n",
              "    <tr>\n",
              "      <th>2011</th>\n",
              "      <td>1508</td>\n",
              "      <td>0</td>\n",
              "    </tr>\n",
              "    <tr>\n",
              "      <th>2012</th>\n",
              "      <td>1325</td>\n",
              "      <td>785</td>\n",
              "    </tr>\n",
              "    <tr>\n",
              "      <th>2013</th>\n",
              "      <td>1257</td>\n",
              "      <td>801</td>\n",
              "    </tr>\n",
              "    <tr>\n",
              "      <th>2014</th>\n",
              "      <td>1279</td>\n",
              "      <td>776</td>\n",
              "    </tr>\n",
              "  </tbody>\n",
              "</table>\n",
              "</div>"
            ],
            "text/plain": [
              "       미용실   양식집\n",
              "2005  2241  1354\n",
              "2006  2118     0\n",
              "2007  1610  1126\n",
              "2008  1706   827\n",
              "2009  1518   876\n",
              "2010  1543   834\n",
              "2011  1508     0\n",
              "2012  1325   785\n",
              "2013  1257   801\n",
              "2014  1279   776"
            ]
          },
          "metadata": {
            "tags": []
          },
          "execution_count": 338
        }
      ]
    },
    {
      "cell_type": "markdown",
      "metadata": {
        "id": "IGMJVEl9uT5y",
        "colab_type": "text"
      },
      "source": [
        "문제5) 일식집을 중식집으로 이름 바꾸기"
      ]
    },
    {
      "cell_type": "code",
      "metadata": {
        "id": "avH5XidgGnqu",
        "colab_type": "code",
        "outputId": "728cbf36-f9fa-46df-bd01-f562a2cad7e6",
        "colab": {
          "base_uri": "https://localhost:8080/",
          "height": 210
        }
      },
      "source": [
        "il_df=il_df.rename(columns={'일식집':'중식집'},axis='columns')\n",
        "il_df"
      ],
      "execution_count": 0,
      "outputs": [
        {
          "output_type": "execute_result",
          "data": {
            "text/plain": [
              "2005    497\n",
              "2006    440\n",
              "2007    458\n",
              "2008    446\n",
              "2009    470\n",
              "2010    489\n",
              "2011    478\n",
              "2012    443\n",
              "2013    433\n",
              "2014    439\n",
              "dtype: int64"
            ]
          },
          "metadata": {
            "tags": []
          },
          "execution_count": 346
        }
      ]
    },
    {
      "cell_type": "markdown",
      "metadata": {
        "id": "gnM03Q7PudcP",
        "colab_type": "text"
      },
      "source": [
        "문제6) 중식집 다시 붙여넣기 "
      ]
    },
    {
      "cell_type": "code",
      "metadata": {
        "colab_type": "code",
        "outputId": "8d27a436-93af-43ea-fe75-8884cce906ed",
        "id": "V8slDBUmIqND",
        "colab": {
          "base_uri": "https://localhost:8080/",
          "height": 343
        }
      },
      "source": [
        "data_df['중식집']=il_df \n",
        "data_df\n",
        "# seiries 전체 넣을때 merge"
      ],
      "execution_count": 0,
      "outputs": [
        {
          "output_type": "execute_result",
          "data": {
            "text/html": [
              "<div>\n",
              "<style scoped>\n",
              "    .dataframe tbody tr th:only-of-type {\n",
              "        vertical-align: middle;\n",
              "    }\n",
              "\n",
              "    .dataframe tbody tr th {\n",
              "        vertical-align: top;\n",
              "    }\n",
              "\n",
              "    .dataframe thead th {\n",
              "        text-align: right;\n",
              "    }\n",
              "</style>\n",
              "<table border=\"1\" class=\"dataframe\">\n",
              "  <thead>\n",
              "    <tr style=\"text-align: right;\">\n",
              "      <th></th>\n",
              "      <th>미용실</th>\n",
              "      <th>양식집</th>\n",
              "      <th>중식집</th>\n",
              "    </tr>\n",
              "  </thead>\n",
              "  <tbody>\n",
              "    <tr>\n",
              "      <th>2005</th>\n",
              "      <td>2241</td>\n",
              "      <td>1354</td>\n",
              "      <td>497</td>\n",
              "    </tr>\n",
              "    <tr>\n",
              "      <th>2006</th>\n",
              "      <td>2118</td>\n",
              "      <td>0</td>\n",
              "      <td>440</td>\n",
              "    </tr>\n",
              "    <tr>\n",
              "      <th>2007</th>\n",
              "      <td>1610</td>\n",
              "      <td>1126</td>\n",
              "      <td>458</td>\n",
              "    </tr>\n",
              "    <tr>\n",
              "      <th>2008</th>\n",
              "      <td>1706</td>\n",
              "      <td>827</td>\n",
              "      <td>446</td>\n",
              "    </tr>\n",
              "    <tr>\n",
              "      <th>2009</th>\n",
              "      <td>1518</td>\n",
              "      <td>876</td>\n",
              "      <td>470</td>\n",
              "    </tr>\n",
              "    <tr>\n",
              "      <th>2010</th>\n",
              "      <td>1543</td>\n",
              "      <td>834</td>\n",
              "      <td>489</td>\n",
              "    </tr>\n",
              "    <tr>\n",
              "      <th>2011</th>\n",
              "      <td>1508</td>\n",
              "      <td>0</td>\n",
              "      <td>478</td>\n",
              "    </tr>\n",
              "    <tr>\n",
              "      <th>2012</th>\n",
              "      <td>1325</td>\n",
              "      <td>785</td>\n",
              "      <td>443</td>\n",
              "    </tr>\n",
              "    <tr>\n",
              "      <th>2013</th>\n",
              "      <td>1257</td>\n",
              "      <td>801</td>\n",
              "      <td>433</td>\n",
              "    </tr>\n",
              "    <tr>\n",
              "      <th>2014</th>\n",
              "      <td>1279</td>\n",
              "      <td>776</td>\n",
              "      <td>439</td>\n",
              "    </tr>\n",
              "  </tbody>\n",
              "</table>\n",
              "</div>"
            ],
            "text/plain": [
              "       미용실   양식집  중식집\n",
              "2005  2241  1354  497\n",
              "2006  2118     0  440\n",
              "2007  1610  1126  458\n",
              "2008  1706   827  446\n",
              "2009  1518   876  470\n",
              "2010  1543   834  489\n",
              "2011  1508     0  478\n",
              "2012  1325   785  443\n",
              "2013  1257   801  433\n",
              "2014  1279   776  439"
            ]
          },
          "metadata": {
            "tags": []
          },
          "execution_count": 340
        }
      ]
    },
    {
      "cell_type": "markdown",
      "metadata": {
        "id": "YirlU15OaJtK",
        "colab_type": "text"
      },
      "source": [
        "문제7) 폐업가게수가 2000개가 넘어가는 경우는 몇가지?"
      ]
    },
    {
      "cell_type": "code",
      "metadata": {
        "id": "zLcQkGg2IrAt",
        "colab_type": "code",
        "outputId": "9bfd6f8f-922b-44ef-c6aa-041873180a72",
        "colab": {
          "base_uri": "https://localhost:8080/",
          "height": 34
        }
      },
      "source": [
        "count=0\n",
        "for idx in range(0,10):\n",
        "  for col in range(0,3):\n",
        "    value=data_df.iloc[idx,col]\n",
        "    if value >2000:\n",
        "      count = count+1\n",
        "print(count)\n"
      ],
      "execution_count": 0,
      "outputs": [
        {
          "output_type": "stream",
          "text": [
            "2\n"
          ],
          "name": "stdout"
        }
      ]
    },
    {
      "cell_type": "code",
      "metadata": {
        "id": "rGKioo9tcvKV",
        "colab_type": "code",
        "outputId": "6fc7ca29-e653-4e99-9fb9-a969e7bc4582",
        "colab": {
          "base_uri": "https://localhost:8080/",
          "height": 34
        }
      },
      "source": [
        "data0=data_df>2000\n",
        "sum(sum(data0.values))"
      ],
      "execution_count": 0,
      "outputs": [
        {
          "output_type": "execute_result",
          "data": {
            "text/plain": [
              "2"
            ]
          },
          "metadata": {
            "tags": []
          },
          "execution_count": 342
        }
      ]
    },
    {
      "cell_type": "markdown",
      "metadata": {
        "id": "WaBiQJguuwzZ",
        "colab_type": "text"
      },
      "source": [
        "문제8) 2000개가 넘어가는 경우의 연도는?"
      ]
    },
    {
      "cell_type": "code",
      "metadata": {
        "id": "h-5YzJnemtrr",
        "colab_type": "code",
        "outputId": "b709a59e-f81b-40ce-f1a7-6751d5a292df",
        "colab": {
          "base_uri": "https://localhost:8080/",
          "height": 52
        }
      },
      "source": [
        "for a in data_df.index[data_df['미용실'] >= 2000]:\n",
        "  print(a)\n"
      ],
      "execution_count": 0,
      "outputs": [
        {
          "output_type": "stream",
          "text": [
            "2005\n",
            "2006\n"
          ],
          "name": "stdout"
        }
      ]
    },
    {
      "cell_type": "markdown",
      "metadata": {
        "id": "zl0APMAKvAwB",
        "colab_type": "text"
      },
      "source": [
        "문제9) 데이터 그려보기"
      ]
    },
    {
      "cell_type": "code",
      "metadata": {
        "id": "H8p7FEHxqPFS",
        "colab_type": "code",
        "outputId": "60ab5f51-b49b-4e5a-c44d-060f46697b47",
        "colab": {
          "base_uri": "https://localhost:8080/",
          "height": 318
        }
      },
      "source": [
        "plt.plot(data_df)"
      ],
      "execution_count": 0,
      "outputs": [
        {
          "output_type": "execute_result",
          "data": {
            "text/plain": [
              "[<matplotlib.lines.Line2D at 0x7f35e1b39e48>,\n",
              " <matplotlib.lines.Line2D at 0x7f35e1c62e48>,\n",
              " <matplotlib.lines.Line2D at 0x7f35e1b49198>]"
            ]
          },
          "metadata": {
            "tags": []
          },
          "execution_count": 344
        },
        {
          "output_type": "display_data",
          "data": {
            "image/png": "[encoded data removed]",
            "text/plain": [
              "<Figure size 432x288 with 1 Axes>"
            ]
          },
          "metadata": {
            "tags": []
          }
        }
      ]
    }
  ]
}
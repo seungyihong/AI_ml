{
  "nbformat": 4,
  "nbformat_minor": 0,
  "metadata": {
    "colab": {
      "name": "Graph_Q1_가장_먼_노드(seungyi).ipynb",
      "provenance": [],
      "authorship_tag": "ABX9TyN9l4ecSdzIb/SFuWP2KWvT",
      "include_colab_link": true
    },
    "kernelspec": {
      "name": "python3",
      "display_name": "Python 3"
    }
  },
  "cells": [
    {
      "cell_type": "markdown",
      "metadata": {
        "id": "view-in-github",
        "colab_type": "text"
      },
      "source": [
        "<a href=\"https://colab.research.google.com/github/seungyihong/AI_ml/blob/master/Graph/Graph_Q1_%EA%B0%80%EC%9E%A5_%EB%A8%BC_%EB%85%B8%EB%93%9C(seungyi).ipynb\" target=\"_parent\"><img src=\"https://colab.research.google.com/assets/colab-badge.svg\" alt=\"Open In Colab\"/></a>"
      ]
    },
    {
      "cell_type": "code",
      "metadata": {
        "id": "QDzNDgnu8LMx",
        "colab_type": "code",
        "colab": {}
      },
      "source": [
        "from collections import defaultdict, deque\n",
        "\n",
        "# 못풀겠어서 구글링.. \n",
        "\n",
        "def bfs(start, tables, visited):\n",
        "    queue = deque()\n",
        "    queue.append((start, 0))\n",
        "    visited.add(start)\n",
        "    numbers = defaultdict(lambda:0)\n",
        "    while queue:\n",
        "        node, cnt = queue.popleft()\n",
        "        visited.add(node)\n",
        "        for neighbor in tables[node]:\n",
        "            if neighbor not in visited:\n",
        "                visited.add(neighbor)\n",
        "                numbers[cnt+1] += 1\n",
        "                queue.append((neighbor, cnt+1))\n",
        "    return numbers[cnt]\n",
        "\n",
        "def solution(n, edge):\n",
        "    tables = defaultdict(set)\n",
        "    for a, b in edge:\n",
        "        tables[a].add(b)\n",
        "        tables[b].add(a)\n",
        "    visited = set()\n",
        "    return bfs(1, tables, visited)"
      ],
      "execution_count": 0,
      "outputs": []
    }
  ]
}